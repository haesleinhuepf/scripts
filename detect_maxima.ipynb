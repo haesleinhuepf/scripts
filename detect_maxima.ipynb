{
 "cells": [
  {
   "cell_type": "code",
   "execution_count": 1,
   "id": "5b1a0a60-ad5d-4299-824a-8018258cbbdd",
   "metadata": {},
   "outputs": [
    {
     "data": {
      "text/plain": [
       "<gfx90c on Platform: AMD Accelerated Parallel Processing (2 refs)>"
      ]
     },
     "execution_count": 1,
     "metadata": {},
     "output_type": "execute_result"
    }
   ],
   "source": [
    "import pyclesperanto_prototype as cle\n",
    "import numpy as np\n",
    "\n",
    "cle.get_device()"
   ]
  },
  {
   "cell_type": "code",
   "execution_count": 2,
   "id": "6b2d3ad2-9e1a-4ffc-b86c-f0a4ac103100",
   "metadata": {},
   "outputs": [],
   "source": [
    "image_x = np.asarray([[[0, 1, 0]]])\n",
    "image_y = np.asarray([[[0], [1], [0]]])\n",
    "image_z = np.asarray([[[0]], [[1]], [[0]]])\n",
    "\n",
    "image_0 = np.asarray([[[0, 0, 0]]])\n",
    "image_b = np.asarray([[[1, 0, 0]]])"
   ]
  },
  {
   "cell_type": "code",
   "execution_count": 3,
   "id": "c661ae33-c4eb-4870-bf27-b8ce73740b0a",
   "metadata": {},
   "outputs": [],
   "source": [
    "@cle.plugin_function\n",
    "def detect_maxima(image):\n",
    "    output = cle.create_like(image)\n",
    "    parameters = {\n",
    "        'src': image,\n",
    "        'dst': output\n",
    "    }\n",
    "    cle.execute(anchor = \"\", \n",
    "                opencl_kernel_filename = \"detect_maxima.cl\", \n",
    "                kernel_name = \"detect_maxima\",\n",
    "                global_size = output.shape,\n",
    "                parameters = parameters\n",
    "               )\n",
    "    return output"
   ]
  },
  {
   "cell_type": "code",
   "execution_count": 4,
   "id": "a8683db8-3b96-403b-82c6-ee235efab6a5",
   "metadata": {},
   "outputs": [
    {
     "data": {
      "text/plain": [
       "cl.Array([[[0., 1., 0.]]], dtype=float32)"
      ]
     },
     "execution_count": 4,
     "metadata": {},
     "output_type": "execute_result"
    }
   ],
   "source": [
    "detect_maxima(image_x)"
   ]
  },
  {
   "cell_type": "code",
   "execution_count": 5,
   "id": "e71d45c9-831b-45f6-8e87-f0a9b5ccb64e",
   "metadata": {},
   "outputs": [
    {
     "data": {
      "text/plain": [
       "cl.Array([[[0.],\n",
       "        [1.],\n",
       "        [0.]]], dtype=float32)"
      ]
     },
     "execution_count": 5,
     "metadata": {},
     "output_type": "execute_result"
    }
   ],
   "source": [
    "detect_maxima(image_y)"
   ]
  },
  {
   "cell_type": "code",
   "execution_count": 6,
   "id": "18beb567-4697-401f-a944-9bbd15510e7d",
   "metadata": {},
   "outputs": [
    {
     "data": {
      "text/plain": [
       "cl.Array([[[0.]],\n",
       "\n",
       "       [[1.]],\n",
       "\n",
       "       [[0.]]], dtype=float32)"
      ]
     },
     "execution_count": 6,
     "metadata": {},
     "output_type": "execute_result"
    }
   ],
   "source": [
    "detect_maxima(image_z)"
   ]
  },
  {
   "cell_type": "code",
   "execution_count": 7,
   "id": "d3912629-24c9-4d2b-98a3-2609d64f5cc7",
   "metadata": {},
   "outputs": [
    {
     "data": {
      "text/plain": [
       "cl.Array([[[0., 0., 0.]]], dtype=float32)"
      ]
     },
     "execution_count": 7,
     "metadata": {},
     "output_type": "execute_result"
    }
   ],
   "source": [
    "detect_maxima(image_0)"
   ]
  },
  {
   "cell_type": "code",
   "execution_count": 8,
   "id": "11e94bc7-6411-4d4f-90bc-81a4860c1da2",
   "metadata": {},
   "outputs": [
    {
     "data": {
      "text/plain": [
       "cl.Array([[[0., 0., 0.]]], dtype=float32)"
      ]
     },
     "execution_count": 8,
     "metadata": {},
     "output_type": "execute_result"
    }
   ],
   "source": [
    "detect_maxima(image_b)"
   ]
  }
 ],
 "metadata": {
  "kernelspec": {
   "display_name": "Python 3 (ipykernel)",
   "language": "python",
   "name": "python3"
  },
  "language_info": {
   "codemirror_mode": {
    "name": "ipython",
    "version": 3
   },
   "file_extension": ".py",
   "mimetype": "text/x-python",
   "name": "python",
   "nbconvert_exporter": "python",
   "pygments_lexer": "ipython3",
   "version": "3.8.12"
  }
 },
 "nbformat": 4,
 "nbformat_minor": 5
}
