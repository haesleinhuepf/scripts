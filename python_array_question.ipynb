{
 "cells": [
  {
   "cell_type": "code",
   "execution_count": 1,
   "id": "957a1200-af64-4c0f-b518-1558ca3bcc12",
   "metadata": {},
   "outputs": [],
   "source": [
    "import numpy as np\n",
    "d1 = np.array([['']*2]*10)\n",
    "d2 = [['']*2]*10"
   ]
  },
  {
   "cell_type": "code",
   "execution_count": 2,
   "id": "e2914cbe-611e-4a80-b442-f44b0bfbc3d4",
   "metadata": {},
   "outputs": [
    {
     "data": {
      "text/plain": [
       "array([['', ''],\n",
       "       ['', ''],\n",
       "       ['', ''],\n",
       "       ['', ''],\n",
       "       ['', ''],\n",
       "       ['', ''],\n",
       "       ['', ''],\n",
       "       ['', ''],\n",
       "       ['', ''],\n",
       "       ['', '']], dtype='<U1')"
      ]
     },
     "execution_count": 2,
     "metadata": {},
     "output_type": "execute_result"
    }
   ],
   "source": [
    "d1"
   ]
  },
  {
   "cell_type": "code",
   "execution_count": 3,
   "id": "caa63f05-d56b-4fbb-97ac-01eee1920bc1",
   "metadata": {},
   "outputs": [
    {
     "data": {
      "text/plain": [
       "[['', ''],\n",
       " ['', ''],\n",
       " ['', ''],\n",
       " ['', ''],\n",
       " ['', ''],\n",
       " ['', ''],\n",
       " ['', ''],\n",
       " ['', ''],\n",
       " ['', ''],\n",
       " ['', '']]"
      ]
     },
     "execution_count": 3,
     "metadata": {},
     "output_type": "execute_result"
    }
   ],
   "source": [
    "d2"
   ]
  },
  {
   "cell_type": "code",
   "execution_count": 4,
   "id": "aad5742a-f51b-4132-a212-994ce32752ae",
   "metadata": {},
   "outputs": [],
   "source": [
    "for j in range(0,4):\n",
    "    d1[j][0] = j\n",
    "    d2[j][0] = j"
   ]
  },
  {
   "cell_type": "code",
   "execution_count": 5,
   "id": "14021277-299a-4033-b41b-25d58cc5290e",
   "metadata": {},
   "outputs": [
    {
     "data": {
      "text/plain": [
       "array([['0', ''],\n",
       "       ['1', ''],\n",
       "       ['2', ''],\n",
       "       ['3', ''],\n",
       "       ['', ''],\n",
       "       ['', ''],\n",
       "       ['', ''],\n",
       "       ['', ''],\n",
       "       ['', ''],\n",
       "       ['', '']], dtype='<U1')"
      ]
     },
     "execution_count": 5,
     "metadata": {},
     "output_type": "execute_result"
    }
   ],
   "source": [
    "d1"
   ]
  },
  {
   "cell_type": "code",
   "execution_count": 6,
   "id": "ca4bba2e-c1a9-4482-9576-1a172c2811a3",
   "metadata": {},
   "outputs": [
    {
     "data": {
      "text/plain": [
       "[[3, ''],\n",
       " [3, ''],\n",
       " [3, ''],\n",
       " [3, ''],\n",
       " [3, ''],\n",
       " [3, ''],\n",
       " [3, ''],\n",
       " [3, ''],\n",
       " [3, ''],\n",
       " [3, '']]"
      ]
     },
     "execution_count": 6,
     "metadata": {},
     "output_type": "execute_result"
    }
   ],
   "source": [
    "d2"
   ]
  },
  {
   "cell_type": "code",
   "execution_count": null,
   "id": "3ecd5134-d0d7-458e-8e04-2e7460a387d3",
   "metadata": {},
   "outputs": [],
   "source": []
  }
 ],
 "metadata": {
  "kernelspec": {
   "display_name": "Python 3 (ipykernel)",
   "language": "python",
   "name": "python3"
  },
  "language_info": {
   "codemirror_mode": {
    "name": "ipython",
    "version": 3
   },
   "file_extension": ".py",
   "mimetype": "text/x-python",
   "name": "python",
   "nbconvert_exporter": "python",
   "pygments_lexer": "ipython3",
   "version": "3.9.7"
  }
 },
 "nbformat": 4,
 "nbformat_minor": 5
}
