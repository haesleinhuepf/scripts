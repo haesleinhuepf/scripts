{
 "cells": [
  {
   "cell_type": "markdown",
   "id": "cc4ec914",
   "metadata": {},
   "source": [
    "Source: https://forum.image.sc/t/using-dask-arrays-with-pyopencl/56936"
   ]
  },
  {
   "cell_type": "code",
   "execution_count": 1,
   "id": "e874b520",
   "metadata": {},
   "outputs": [],
   "source": [
    "import numpy as np\n",
    "import pyopencl as cl\n",
    "import pyopencl.array as cla\n",
    "\n",
    "#Make some simple data\n",
    "x = np.array([[1, 2, 3, 4, 5, 6]])\n",
    "img = np.vstack([np.zeros_like(x), x, x, x, np.zeros_like(x)]).astype(np.float32)\n",
    "# %%\n",
    "#Initialize pyopencl\n",
    "ctx = cl.create_some_context()\n",
    "cq = cl.CommandQueue(ctx)\n",
    "\n",
    "#%%\n",
    "#Simple GPU function\n",
    "def test_gpu(img, queue=cq):\n",
    "    #send img to gpu\n",
    "    img_g = cla.to_device(queue, img)\n",
    "    #create space on GPU for output\n",
    "    out_g = cla.empty_like(img_g)\n",
    "    #simple math\n",
    "    out_g = img_g * img_g\n",
    "    #return numpy array from GPU\n",
    "    return out_g.get()\n",
    "#%%\n",
    "#Analogous non-GPU function\n",
    "def test_cpu(img):\n",
    "    out_c = img * img\n",
    "    return out_c"
   ]
  },
  {
   "cell_type": "code",
   "execution_count": 2,
   "id": "c6a3f870",
   "metadata": {},
   "outputs": [
    {
     "data": {
      "text/html": [
       "<table>\n",
       "<tr>\n",
       "<td>\n",
       "<table>\n",
       "  <thead>\n",
       "    <tr><td> </td><th> Array </th><th> Chunk </th></tr>\n",
       "  </thead>\n",
       "  <tbody>\n",
       "    <tr><th> Bytes </th><td> 600 B </td> <td> 120 B </td></tr>\n",
       "    <tr><th> Shape </th><td> (5, 5, 6) </td> <td> (1, 5, 6) </td></tr>\n",
       "    <tr><th> Count </th><td> 41 Tasks </td><td> 5 Chunks </td></tr>\n",
       "    <tr><th> Type </th><td> float32 </td><td> numpy.ndarray </td></tr>\n",
       "  </tbody>\n",
       "</table>\n",
       "</td>\n",
       "<td>\n",
       "<svg width=\"238\" height=\"208\" style=\"stroke:rgb(0,0,0);stroke-width:1\" >\n",
       "\n",
       "  <!-- Horizontal lines -->\n",
       "  <line x1=\"10\" y1=\"0\" x2=\"68\" y2=\"58\" style=\"stroke-width:2\" />\n",
       "  <line x1=\"10\" y1=\"100\" x2=\"68\" y2=\"158\" style=\"stroke-width:2\" />\n",
       "\n",
       "  <!-- Vertical lines -->\n",
       "  <line x1=\"10\" y1=\"0\" x2=\"10\" y2=\"100\" style=\"stroke-width:2\" />\n",
       "  <line x1=\"21\" y1=\"11\" x2=\"21\" y2=\"111\" />\n",
       "  <line x1=\"33\" y1=\"23\" x2=\"33\" y2=\"123\" />\n",
       "  <line x1=\"45\" y1=\"35\" x2=\"45\" y2=\"135\" />\n",
       "  <line x1=\"57\" y1=\"47\" x2=\"57\" y2=\"147\" />\n",
       "  <line x1=\"68\" y1=\"58\" x2=\"68\" y2=\"158\" style=\"stroke-width:2\" />\n",
       "\n",
       "  <!-- Colored Rectangle -->\n",
       "  <polygon points=\"10.0,0.0 68.82352941176471,58.82352941176471 68.82352941176471,158.8235294117647 10.0,100.0\" style=\"fill:#ECB172A0;stroke-width:0\"/>\n",
       "\n",
       "  <!-- Horizontal lines -->\n",
       "  <line x1=\"10\" y1=\"0\" x2=\"130\" y2=\"0\" style=\"stroke-width:2\" />\n",
       "  <line x1=\"21\" y1=\"11\" x2=\"141\" y2=\"11\" />\n",
       "  <line x1=\"33\" y1=\"23\" x2=\"153\" y2=\"23\" />\n",
       "  <line x1=\"45\" y1=\"35\" x2=\"165\" y2=\"35\" />\n",
       "  <line x1=\"57\" y1=\"47\" x2=\"177\" y2=\"47\" />\n",
       "  <line x1=\"68\" y1=\"58\" x2=\"188\" y2=\"58\" style=\"stroke-width:2\" />\n",
       "\n",
       "  <!-- Vertical lines -->\n",
       "  <line x1=\"10\" y1=\"0\" x2=\"68\" y2=\"58\" style=\"stroke-width:2\" />\n",
       "  <line x1=\"130\" y1=\"0\" x2=\"188\" y2=\"58\" style=\"stroke-width:2\" />\n",
       "\n",
       "  <!-- Colored Rectangle -->\n",
       "  <polygon points=\"10.0,0.0 130.0,0.0 188.8235294117647,58.82352941176471 68.82352941176471,58.82352941176471\" style=\"fill:#ECB172A0;stroke-width:0\"/>\n",
       "\n",
       "  <!-- Horizontal lines -->\n",
       "  <line x1=\"68\" y1=\"58\" x2=\"188\" y2=\"58\" style=\"stroke-width:2\" />\n",
       "  <line x1=\"68\" y1=\"158\" x2=\"188\" y2=\"158\" style=\"stroke-width:2\" />\n",
       "\n",
       "  <!-- Vertical lines -->\n",
       "  <line x1=\"68\" y1=\"58\" x2=\"68\" y2=\"158\" style=\"stroke-width:2\" />\n",
       "  <line x1=\"188\" y1=\"58\" x2=\"188\" y2=\"158\" style=\"stroke-width:2\" />\n",
       "\n",
       "  <!-- Colored Rectangle -->\n",
       "  <polygon points=\"68.82352941176471,58.82352941176471 188.8235294117647,58.82352941176471 188.8235294117647,158.8235294117647 68.82352941176471,158.8235294117647\" style=\"fill:#ECB172A0;stroke-width:0\"/>\n",
       "\n",
       "  <!-- Text -->\n",
       "  <text x=\"128.823529\" y=\"178.823529\" font-size=\"1.0rem\" font-weight=\"100\" text-anchor=\"middle\" >6</text>\n",
       "  <text x=\"208.823529\" y=\"108.823529\" font-size=\"1.0rem\" font-weight=\"100\" text-anchor=\"middle\" transform=\"rotate(0,208.823529,108.823529)\">5</text>\n",
       "  <text x=\"29.411765\" y=\"149.411765\" font-size=\"1.0rem\" font-weight=\"100\" text-anchor=\"middle\" transform=\"rotate(45,29.411765,149.411765)\">5</text>\n",
       "</svg>\n",
       "</td>\n",
       "</tr>\n",
       "</table>"
      ],
      "text/plain": [
       "dask.array<rechunk-merge, shape=(5, 5, 6), dtype=float32, chunksize=(1, 5, 6), chunktype=numpy.ndarray>"
      ]
     },
     "execution_count": 2,
     "metadata": {},
     "output_type": "execute_result"
    }
   ],
   "source": [
    "import dask.array as da\n",
    "\n",
    "#make a dask array of 5 slices of img\n",
    "dask_data = []\n",
    "for i in range(5):\n",
    "    darray = da.from_array(img)\n",
    "    stack = da.stack(darray, axis=0)\n",
    "    dask_data.append(stack)\n",
    "\n",
    "data = da.stack(dask_data)\n",
    "data = data.rechunk((1, 5, 6))\n",
    "data"
   ]
  },
  {
   "cell_type": "code",
   "execution_count": 3,
   "id": "452ae10a",
   "metadata": {},
   "outputs": [
    {
     "data": {
      "text/plain": [
       "dask.array.core.Array"
      ]
     },
     "execution_count": 3,
     "metadata": {},
     "output_type": "execute_result"
    }
   ],
   "source": [
    "test3 = test_cpu(data[0])\n",
    "type(test3)"
   ]
  },
  {
   "cell_type": "code",
   "execution_count": 4,
   "id": "97e36e98",
   "metadata": {},
   "outputs": [
    {
     "ename": "AttributeError",
     "evalue": "'Array' object has no attribute 'strides'",
     "output_type": "error",
     "traceback": [
      "\u001b[1;31m---------------------------------------------------------------------------\u001b[0m",
      "\u001b[1;31mAttributeError\u001b[0m                            Traceback (most recent call last)",
      "\u001b[1;32m~\\AppData\\Local\\Temp/ipykernel_25784/937944587.py\u001b[0m in \u001b[0;36m<module>\u001b[1;34m\u001b[0m\n\u001b[1;32m----> 1\u001b[1;33m \u001b[0mtest4\u001b[0m \u001b[1;33m=\u001b[0m \u001b[0mtest_gpu\u001b[0m\u001b[1;33m(\u001b[0m\u001b[0mdata\u001b[0m\u001b[1;33m[\u001b[0m\u001b[1;36m0\u001b[0m\u001b[1;33m]\u001b[0m\u001b[1;33m)\u001b[0m\u001b[1;33m\u001b[0m\u001b[1;33m\u001b[0m\u001b[0m\n\u001b[0m\u001b[0;32m      2\u001b[0m \u001b[0mtest4\u001b[0m\u001b[1;33m\u001b[0m\u001b[1;33m\u001b[0m\u001b[0m\n",
      "\u001b[1;32m~\\AppData\\Local\\Temp/ipykernel_25784/2039763968.py\u001b[0m in \u001b[0;36mtest_gpu\u001b[1;34m(img, queue)\u001b[0m\n\u001b[0;32m     15\u001b[0m \u001b[1;32mdef\u001b[0m \u001b[0mtest_gpu\u001b[0m\u001b[1;33m(\u001b[0m\u001b[0mimg\u001b[0m\u001b[1;33m,\u001b[0m \u001b[0mqueue\u001b[0m\u001b[1;33m=\u001b[0m\u001b[0mcq\u001b[0m\u001b[1;33m)\u001b[0m\u001b[1;33m:\u001b[0m\u001b[1;33m\u001b[0m\u001b[1;33m\u001b[0m\u001b[0m\n\u001b[0;32m     16\u001b[0m     \u001b[1;31m#send img to gpu\u001b[0m\u001b[1;33m\u001b[0m\u001b[1;33m\u001b[0m\u001b[1;33m\u001b[0m\u001b[0m\n\u001b[1;32m---> 17\u001b[1;33m     \u001b[0mimg_g\u001b[0m \u001b[1;33m=\u001b[0m \u001b[0mcla\u001b[0m\u001b[1;33m.\u001b[0m\u001b[0mto_device\u001b[0m\u001b[1;33m(\u001b[0m\u001b[0mqueue\u001b[0m\u001b[1;33m,\u001b[0m \u001b[0mimg\u001b[0m\u001b[1;33m)\u001b[0m\u001b[1;33m\u001b[0m\u001b[1;33m\u001b[0m\u001b[0m\n\u001b[0m\u001b[0;32m     18\u001b[0m     \u001b[1;31m#create space on GPU for output\u001b[0m\u001b[1;33m\u001b[0m\u001b[1;33m\u001b[0m\u001b[1;33m\u001b[0m\u001b[0m\n\u001b[0;32m     19\u001b[0m     \u001b[0mout_g\u001b[0m \u001b[1;33m=\u001b[0m \u001b[0mcla\u001b[0m\u001b[1;33m.\u001b[0m\u001b[0mempty_like\u001b[0m\u001b[1;33m(\u001b[0m\u001b[0mimg_g\u001b[0m\u001b[1;33m)\u001b[0m\u001b[1;33m\u001b[0m\u001b[1;33m\u001b[0m\u001b[0m\n",
      "\u001b[1;32m~\\miniconda3\\envs\\bio1\\lib\\site-packages\\pyopencl\\array.py\u001b[0m in \u001b[0;36mto_device\u001b[1;34m(queue, ary, allocator, async_, array_queue, **kwargs)\u001b[0m\n\u001b[0;32m   2218\u001b[0m \u001b[1;33m\u001b[0m\u001b[0m\n\u001b[0;32m   2219\u001b[0m     result = Array(first_arg, ary.shape, ary.dtype,\n\u001b[1;32m-> 2220\u001b[1;33m                     allocator=allocator, strides=ary.strides)\n\u001b[0m\u001b[0;32m   2221\u001b[0m     \u001b[0mresult\u001b[0m\u001b[1;33m.\u001b[0m\u001b[0mset\u001b[0m\u001b[1;33m(\u001b[0m\u001b[0mary\u001b[0m\u001b[1;33m,\u001b[0m \u001b[0masync_\u001b[0m\u001b[1;33m=\u001b[0m\u001b[0masync_\u001b[0m\u001b[1;33m,\u001b[0m \u001b[0mqueue\u001b[0m\u001b[1;33m=\u001b[0m\u001b[0mqueue\u001b[0m\u001b[1;33m)\u001b[0m\u001b[1;33m\u001b[0m\u001b[1;33m\u001b[0m\u001b[0m\n\u001b[0;32m   2222\u001b[0m     \u001b[1;32mreturn\u001b[0m \u001b[0mresult\u001b[0m\u001b[1;33m\u001b[0m\u001b[1;33m\u001b[0m\u001b[0m\n",
      "\u001b[1;31mAttributeError\u001b[0m: 'Array' object has no attribute 'strides'"
     ]
    }
   ],
   "source": [
    "test4 = test_gpu(data[0])\n",
    "test4"
   ]
  },
  {
   "cell_type": "code",
   "execution_count": null,
   "id": "7f22ef3e",
   "metadata": {},
   "outputs": [],
   "source": [
    "map_with_cpu = data.map_blocks(test_cpu, dtype=\"float32\", meta=np.array((), dtype=np.float32))"
   ]
  },
  {
   "cell_type": "code",
   "execution_count": null,
   "id": "43f31d97",
   "metadata": {},
   "outputs": [],
   "source": [
    "map_with_cpu"
   ]
  },
  {
   "cell_type": "code",
   "execution_count": null,
   "id": "6692f4b3",
   "metadata": {},
   "outputs": [],
   "source": [
    "map_with_gpu = data.map_blocks(test_gpu, dtype=\"float32\", meta=np.array((), dtype=np.float32))\n",
    "map_with_gpu"
   ]
  },
  {
   "cell_type": "code",
   "execution_count": null,
   "id": "59ee739d",
   "metadata": {},
   "outputs": [],
   "source": []
  }
 ],
 "metadata": {
  "kernelspec": {
   "display_name": "Python 3 (ipykernel)",
   "language": "python",
   "name": "python3"
  },
  "language_info": {
   "codemirror_mode": {
    "name": "ipython",
    "version": 3
   },
   "file_extension": ".py",
   "mimetype": "text/x-python",
   "name": "python",
   "nbconvert_exporter": "python",
   "pygments_lexer": "ipython3",
   "version": "3.8.5"
  }
 },
 "nbformat": 4,
 "nbformat_minor": 5
}
