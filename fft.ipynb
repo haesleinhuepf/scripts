{
 "cells": [
  {
   "cell_type": "code",
   "execution_count": 1,
   "id": "d4fe31fb-4a1f-4d6e-bbf5-f0f9231db60c",
   "metadata": {},
   "outputs": [],
   "source": [
    "import cupy as cp\n",
    "from skimage.io import imread, imshow\n",
    "from typing import List"
   ]
  },
  {
   "cell_type": "code",
   "execution_count": 2,
   "id": "9dd1a09a-9bd2-4779-b892-23e36e81ab03",
   "metadata": {},
   "outputs": [],
   "source": [
    "from napari_tools_menu import register_function\n",
    "\n",
    "@register_function(menu=\"Image math > FFT (2D)\")\n",
    "def forward_fft_2d(image:\"napari.types.ImageData\", viewer:\"napari.Viewer\"=None):\n",
    "    try:\n",
    "        import cupy as np\n",
    "    except:\n",
    "        import numpy as np\n",
    "    original_image = image\n",
    "\n",
    "    image = np.asarray(image)\n",
    "    image = np.fft.fft2(image)\n",
    "    image = np.fft.fftshift(image)\n",
    "    \n",
    "    if viewer is not None:\n",
    "        from napari_workflows._workflow import _get_layer_from_data\n",
    "        layer = _get_layer_from_data(viewer, original_image)\n",
    "        if layer is not None:\n",
    "            name = layer.name\n",
    "        else:\n",
    "            name = \"Image\"\n",
    "        \n",
    "        viewer.add_image(image.real.get(), name=name + \" (real)\")\n",
    "        viewer.add_image(image.imag.get(), name=name + \" (imaginary)\")\n",
    "    else:\n",
    "        return image.real.get(), image.imag.get()"
   ]
  },
  {
   "cell_type": "code",
   "execution_count": 3,
   "id": "06a89889-fb9f-4914-a39e-a182492dac03",
   "metadata": {},
   "outputs": [],
   "source": [
    "@register_function(menu=\"Image math > inverse FFT (2D)\")\n",
    "def inverse_fft_2d(real_image:\"napari.types.ImageData\", imaginary_image:\"napari.types.ImageData\") -> \"napari.types.ImageData\":\n",
    "    try:\n",
    "        import cupy as np\n",
    "    except:\n",
    "        import numpy as np\n",
    "    \n",
    "    # create complex image, source: https://github.com/numpy/numpy/issues/16039\n",
    "    image = np.empty(real_image.shape, dtype=np.complex128)\n",
    "    image.real = np.asarray(real_image)\n",
    "    image.imag = np.asarray(imaginary_image)\n",
    "    image = np.fft.ifftshift(image)\n",
    "    image = np.fft.ifft2(image)\n",
    "    \n",
    "    return image.real.get()"
   ]
  },
  {
   "cell_type": "code",
   "execution_count": 4,
   "id": "29c3c253-91df-4ea1-bf6c-71cdc155c537",
   "metadata": {},
   "outputs": [],
   "source": [
    "@register_function(menu=\"Image math > Set masked pixels\")\n",
    "def set_masked_pixels(image:\"napari.types.ImageData\", mask:\"napari.types.LabelsData\", new_value:float = 0) -> \"napari.types.ImageData\":\n",
    "    \n",
    "    try:\n",
    "        import cupy as np\n",
    "    except:\n",
    "        import numpy as np\n",
    "        \n",
    "    image = np.asarray(image).copy()\n",
    "    image[np.asarray(mask) != 0] = new_value\n",
    "    \n",
    "    return image.get()"
   ]
  },
  {
   "cell_type": "code",
   "execution_count": 5,
   "id": "1cd7d3a6-a19e-4c49-86bc-3ce1d9b1bde4",
   "metadata": {},
   "outputs": [],
   "source": [
    "image = imread(\"C:/structure/data/zfish_nucl_env.tif\")"
   ]
  },
  {
   "cell_type": "code",
   "execution_count": 6,
   "id": "6dedf8d7-784b-4e03-b915-ddc37ed2ccce",
   "metadata": {},
   "outputs": [],
   "source": [
    "import napari\n",
    "viewer = napari.Viewer()"
   ]
  },
  {
   "cell_type": "code",
   "execution_count": 7,
   "id": "1910b560-6511-45c9-bc15-01d6246e0e8f",
   "metadata": {},
   "outputs": [
    {
     "data": {
      "text/plain": [
       "<Image layer 'image' at 0x1c0b5591b80>"
      ]
     },
     "execution_count": 7,
     "metadata": {},
     "output_type": "execute_result"
    }
   ],
   "source": [
    "viewer.add_image(image)"
   ]
  },
  {
   "cell_type": "code",
   "execution_count": 8,
   "id": "2afdedd6-c052-4d40-bca9-30d25ac48dd5",
   "metadata": {},
   "outputs": [],
   "source": [
    "#viewer.add_image(cp.asarray(image))"
   ]
  },
  {
   "cell_type": "code",
   "execution_count": 9,
   "id": "709e9fe0-d13c-466c-bff3-5d0103a1db69",
   "metadata": {},
   "outputs": [],
   "source": [
    "real, imag = forward_fft_2d(image)"
   ]
  },
  {
   "cell_type": "code",
   "execution_count": 10,
   "id": "dbf98b61-1ce2-42ec-a700-0ca7b2e189c5",
   "metadata": {},
   "outputs": [],
   "source": [
    "result = inverse_fft_2d(real, imag)"
   ]
  },
  {
   "cell_type": "code",
   "execution_count": 11,
   "id": "9b0f480c-ef44-4698-b872-a0fb569b866a",
   "metadata": {},
   "outputs": [
    {
     "data": {
      "text/plain": [
       "dtype('float64')"
      ]
     },
     "execution_count": 11,
     "metadata": {},
     "output_type": "execute_result"
    }
   ],
   "source": [
    "result.dtype"
   ]
  },
  {
   "cell_type": "code",
   "execution_count": 12,
   "id": "b5b5cea8-405b-48fe-9651-583bb89dda4e",
   "metadata": {},
   "outputs": [
    {
     "data": {
      "text/plain": [
       "<Image layer 'result' at 0x1c0b98e1250>"
      ]
     },
     "execution_count": 12,
     "metadata": {},
     "output_type": "execute_result"
    }
   ],
   "source": [
    "viewer.add_image(result)"
   ]
  },
  {
   "cell_type": "code",
   "execution_count": null,
   "id": "2c5c2865-22b8-48fa-b1ce-79138d691799",
   "metadata": {},
   "outputs": [],
   "source": []
  },
  {
   "cell_type": "code",
   "execution_count": null,
   "id": "0610e090-55cf-4d82-b648-7319f0ce763b",
   "metadata": {},
   "outputs": [],
   "source": []
  }
 ],
 "metadata": {
  "kernelspec": {
   "display_name": "Python 3 (ipykernel)",
   "language": "python",
   "name": "python3"
  },
  "language_info": {
   "codemirror_mode": {
    "name": "ipython",
    "version": 3
   },
   "file_extension": ".py",
   "mimetype": "text/x-python",
   "name": "python",
   "nbconvert_exporter": "python",
   "pygments_lexer": "ipython3",
   "version": "3.9.13"
  }
 },
 "nbformat": 4,
 "nbformat_minor": 5
}
